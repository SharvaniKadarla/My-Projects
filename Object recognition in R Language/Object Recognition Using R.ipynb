{
  "nbformat": 4,
  "nbformat_minor": 0,
  "metadata": {
    "colab": {
      "provenance": []
    },
    "kernelspec": {
      "name": "ir",
      "display_name": "R"
    },
    "language_info": {
      "name": "R"
    },
    "gpuClass": "standard"
  },
  "cells": [
    {
      "cell_type": "code",
      "execution_count": 1,
      "metadata": {
        "colab": {
          "base_uri": "https://localhost:8080/"
        },
        "id": "Kf0MUNCZhhmx",
        "outputId": "31cb6250-70c5-44f3-b3e5-42bc42bebc8e"
      },
      "outputs": [
        {
          "output_type": "stream",
          "name": "stderr",
          "text": [
            "Installing package into ‘/usr/local/lib/R/site-library’\n",
            "(as ‘lib’ is unspecified)\n",
            "\n"
          ]
        }
      ],
      "source": [
        "install.packages(\"image.darknet\", repos = \"https://bnosac.github.io/drat\")"
      ]
    },
    {
      "cell_type": "code",
      "source": [
        "library(image.darknet)\n"
      ],
      "metadata": {
        "id": "jPg2MeWxh0r8"
      },
      "execution_count": 2,
      "outputs": []
    },
    {
      "cell_type": "code",
      "source": [
        "darknet_model <- image_darknet_model(type = \"classify\",\n",
        "                                     model = \"tiny.cfg\",\n",
        "                                     weights = system.file(package = \"image.darknet\", \"models\", \"tiny.weights\"),\n",
        "                                     labels = system.file(package = \"image.darknet\", \"include\", \"darknet\", \"data\", \"imagenet.shortnames.list\"))"
      ],
      "metadata": {
        "id": "ze966xGfh4Ow"
      },
      "execution_count": 3,
      "outputs": []
    },
    {
      "cell_type": "code",
      "source": [
        "image_darknet_classify(file = \"/content/cat-dog.jpeg\",\n",
        "                       object = darknet_model)"
      ],
      "metadata": {
        "colab": {
          "base_uri": "https://localhost:8080/",
          "height": 335
        },
        "id": "p5JAToiuiewP",
        "outputId": "db917571-5c27-459f-8d39-ff425155f5fd"
      },
      "execution_count": 5,
      "outputs": [
        {
          "output_type": "display_data",
          "data": {
            "text/html": [
              "<dl>\n",
              "\t<dt>$file</dt>\n",
              "\t\t<dd>'/content/cat-dog.jpeg'</dd>\n",
              "\t<dt>$type</dt>\n",
              "\t\t<dd><table class=\"dataframe\">\n",
              "<caption>A data.frame: 5 × 2</caption>\n",
              "<thead>\n",
              "\t<tr><th scope=col>label</th><th scope=col>probability</th></tr>\n",
              "\t<tr><th scope=col>&lt;chr&gt;</th><th scope=col>&lt;dbl&gt;</th></tr>\n",
              "</thead>\n",
              "<tbody>\n",
              "\t<tr><td>golden retriever</td><td>0.36804950</td></tr>\n",
              "\t<tr><td>cocker spaniel  </td><td>0.31873727</td></tr>\n",
              "\t<tr><td>English setter  </td><td>0.08225095</td></tr>\n",
              "\t<tr><td>clumber         </td><td>0.07587536</td></tr>\n",
              "\t<tr><td>Sussex spaniel  </td><td>0.03619554</td></tr>\n",
              "</tbody>\n",
              "</table>\n",
              "</dd>\n",
              "</dl>\n"
            ],
            "text/markdown": "$file\n:   '/content/cat-dog.jpeg'\n$type\n:   \nA data.frame: 5 × 2\n\n| label &lt;chr&gt; | probability &lt;dbl&gt; |\n|---|---|\n| golden retriever | 0.36804950 |\n| cocker spaniel   | 0.31873727 |\n| English setter   | 0.08225095 |\n| clumber          | 0.07587536 |\n| Sussex spaniel   | 0.03619554 |\n\n\n\n\n",
            "text/latex": "\\begin{description}\n\\item[\\$file] '/content/cat-dog.jpeg'\n\\item[\\$type] A data.frame: 5 × 2\n\\begin{tabular}{ll}\n label & probability\\\\\n <chr> & <dbl>\\\\\n\\hline\n\t golden retriever & 0.36804950\\\\\n\t cocker spaniel   & 0.31873727\\\\\n\t English setter   & 0.08225095\\\\\n\t clumber          & 0.07587536\\\\\n\t Sussex spaniel   & 0.03619554\\\\\n\\end{tabular}\n\n\\end{description}\n",
            "text/plain": [
              "$file\n",
              "[1] \"/content/cat-dog.jpeg\"\n",
              "\n",
              "$type\n",
              "             label probability\n",
              "1 golden retriever  0.36804950\n",
              "2   cocker spaniel  0.31873727\n",
              "3   English setter  0.08225095\n",
              "4          clumber  0.07587536\n",
              "5   Sussex spaniel  0.03619554\n"
            ]
          },
          "metadata": {}
        }
      ]
    },
    {
      "cell_type": "code",
      "source": [
        "darknet_model <- image_darknet_model(type = \"detect\",\n",
        "                                     model = \"tiny-yolo-voc.cfg\",\n",
        "                                     weights = system.file(package = \"image.darknet\", \"models\", \"tiny-yolo-voc.weights\"),\n",
        "                                     labels = system.file(package = \"image.darknet\", \"include\", \"darknet\", \"data\", \"voc.names\"))"
      ],
      "metadata": {
        "id": "dK74U5KTkoNo"
      },
      "execution_count": 6,
      "outputs": []
    },
    {
      "cell_type": "code",
      "source": [
        "image_darknet_detect(file = \"/content/cat-dog.jpeg\",\n",
        "                     object = darknet_model)"
      ],
      "metadata": {
        "id": "KVwrB05okquN"
      },
      "execution_count": 10,
      "outputs": []
    }
  ]
}